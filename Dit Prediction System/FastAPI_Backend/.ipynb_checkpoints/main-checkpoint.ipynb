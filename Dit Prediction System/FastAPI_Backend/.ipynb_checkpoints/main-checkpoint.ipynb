{
 "cells": [
  {
   "cell_type": "code",
   "execution_count": null,
   "id": "157362a0-568f-4a78-b368-8cfca7254ac5",
   "metadata": {},
   "outputs": [
    {
     "name": "stdout",
     "output_type": "stream",
     "text": [
      " * Serving Flask app '__main__'\n",
      " * Debug mode: off\n"
     ]
    },
    {
     "name": "stderr",
     "output_type": "stream",
     "text": [
      "WARNING: This is a development server. Do not use it in a production deployment. Use a production WSGI server instead.\n",
      " * Running on http://127.0.0.1:3355\n",
      "Press CTRL+C to quit\n"
     ]
    }
   ],
   "source": [
    "from flask import Flask, request, jsonify\n",
    "from pydantic import BaseModel\n",
    "from typing import List, Optional, Dict\n",
    "import pandas as pd\n",
    "from model import recommend, output_recommended_recipes\n",
    "\n",
    "app = Flask(__name__)\n",
    "dataset = pd.read_csv('../Data/dataset.csv', compression='gzip')\n",
    "\n",
    "class FoodInput(BaseModel):\n",
    "    nutrition_input: List[float]\n",
    "    ingredients: List[str]\n",
    "    params: Optional[dict]\n",
    "\n",
    "@app.route('/recommend', methods=['POST'])\n",
    "def recommend_food():\n",
    "    print('request received')\n",
    "    request_data = request.json\n",
    "    food_input = FoodInput(**request_data)\n",
    "    \n",
    "    recommended_recipes = recommend(dataset, food_input.nutrition_input, food_input.ingredients, food_input.params)\n",
    "    \n",
    "    output = output_recommended_recipes(recommended_recipes)\n",
    "    \n",
    "    return jsonify({\"output\": output})\n",
    "    \n",
    "@app.route('/', methods = ['GET'])\n",
    "def activee():\n",
    "    return 'server is activated :)'\n",
    "\n",
    "if __name__ == \"__main__\":\n",
    "    app.run(port = '3355')\n"
   ]
  },
  {
   "cell_type": "code",
   "execution_count": null,
   "id": "c6758bfb-8ef2-45d3-b49c-ad73b036b05d",
   "metadata": {},
   "outputs": [],
   "source": []
  }
 ],
 "metadata": {
  "kernelspec": {
   "display_name": "Python 3 (ipykernel)",
   "language": "python",
   "name": "python3"
  },
  "language_info": {
   "codemirror_mode": {
    "name": "ipython",
    "version": 3
   },
   "file_extension": ".py",
   "mimetype": "text/x-python",
   "name": "python",
   "nbconvert_exporter": "python",
   "pygments_lexer": "ipython3",
   "version": "3.11.7"
  }
 },
 "nbformat": 4,
 "nbformat_minor": 5
}
