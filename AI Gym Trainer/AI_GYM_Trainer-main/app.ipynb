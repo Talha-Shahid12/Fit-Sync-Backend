{
 "cells": [
  {
   "cell_type": "code",
   "execution_count": null,
   "id": "e10a2a6f-bc2e-4faa-bc18-9088288f4ec8",
   "metadata": {},
   "outputs": [
    {
     "name": "stdout",
     "output_type": "stream",
     "text": [
      " * Serving Flask app '__main__'\n",
      " * Debug mode: off\n"
     ]
    },
    {
     "name": "stderr",
     "output_type": "stream",
     "text": [
      "WARNING: This is a development server. Do not use it in a production deployment. Use a production WSGI server instead.\n",
      " * Running on http://192.168.36.234:3355\n",
      "Press CTRL+C to quit\n",
      "D:\\anachonda3\\Lib\\site-packages\\google\\protobuf\\symbol_database.py:55: UserWarning: SymbolDatabase.GetPrototype() is deprecated. Please use message_factory.GetMessageClass() instead. SymbolDatabase.GetPrototype() will be removed soon.\n",
      "  warnings.warn('SymbolDatabase.GetPrototype() is deprecated. Please '\n",
      "[2024-07-06 23:07:25,209] ERROR in app: Exception on /single-handed-curl [POST]\n",
      "Traceback (most recent call last):\n",
      "  File \"D:\\anachonda3\\Lib\\site-packages\\flask\\app.py\", line 2529, in wsgi_app\n",
      "    response = self.full_dispatch_request()\n",
      "               ^^^^^^^^^^^^^^^^^^^^^^^^^^^^\n",
      "  File \"D:\\anachonda3\\Lib\\site-packages\\flask\\app.py\", line 1825, in full_dispatch_request\n",
      "    rv = self.handle_user_exception(e)\n",
      "         ^^^^^^^^^^^^^^^^^^^^^^^^^^^^^\n",
      "  File \"D:\\anachonda3\\Lib\\site-packages\\flask_cors\\extension.py\", line 178, in wrapped_function\n",
      "    return cors_after_request(app.make_response(f(*args, **kwargs)))\n",
      "                                                ^^^^^^^^^^^^^^^^^^\n",
      "  File \"D:\\anachonda3\\Lib\\site-packages\\flask\\app.py\", line 1823, in full_dispatch_request\n",
      "    rv = self.dispatch_request()\n",
      "         ^^^^^^^^^^^^^^^^^^^^^^^\n",
      "  File \"D:\\anachonda3\\Lib\\site-packages\\flask\\app.py\", line 1799, in dispatch_request\n",
      "    return self.ensure_sync(self.view_functions[rule.endpoint])(**view_args)\n",
      "           ^^^^^^^^^^^^^^^^^^^^^^^^^^^^^^^^^^^^^^^^^^^^^^^^^^^^^^^^^^^^^^^^^\n",
      "  File \"C:\\Users\\Talha Shahid\\AppData\\Local\\Temp\\ipykernel_4708\\2000969442.py\", line 118, in single_handed_curl\n",
      "    Wrong_Posture(img)\n",
      "    ^^^^^^^^^^^^^\n",
      "NameError: name 'Wrong_Posture' is not defined\n",
      "192.168.36.206 - - [06/Jul/2024 23:07:25] \"POST /single-handed-curl HTTP/1.1\" 500 -\n"
     ]
    },
    {
     "name": "stdout",
     "output_type": "stream",
     "text": [
      "Current count: 0\n",
      "Current direction: 0\n"
     ]
    },
    {
     "name": "stderr",
     "output_type": "stream",
     "text": [
      "192.168.36.206 - - [06/Jul/2024 23:07:26] \"POST /single-handed-curl HTTP/1.1\" 200 -\n"
     ]
    },
    {
     "name": "stdout",
     "output_type": "stream",
     "text": [
      "Current count: 0.5\n",
      "Current direction: 1\n"
     ]
    },
    {
     "name": "stderr",
     "output_type": "stream",
     "text": [
      "[2024-07-06 23:07:28,930] ERROR in app: Exception on /single-handed-curl [POST]\n",
      "Traceback (most recent call last):\n",
      "  File \"D:\\anachonda3\\Lib\\site-packages\\flask\\app.py\", line 2529, in wsgi_app\n",
      "    response = self.full_dispatch_request()\n",
      "               ^^^^^^^^^^^^^^^^^^^^^^^^^^^^\n",
      "  File \"D:\\anachonda3\\Lib\\site-packages\\flask\\app.py\", line 1825, in full_dispatch_request\n",
      "    rv = self.handle_user_exception(e)\n",
      "         ^^^^^^^^^^^^^^^^^^^^^^^^^^^^^\n",
      "  File \"D:\\anachonda3\\Lib\\site-packages\\flask_cors\\extension.py\", line 178, in wrapped_function\n",
      "    return cors_after_request(app.make_response(f(*args, **kwargs)))\n",
      "                                                ^^^^^^^^^^^^^^^^^^\n",
      "  File \"D:\\anachonda3\\Lib\\site-packages\\flask\\app.py\", line 1823, in full_dispatch_request\n",
      "    rv = self.dispatch_request()\n",
      "         ^^^^^^^^^^^^^^^^^^^^^^^\n",
      "  File \"D:\\anachonda3\\Lib\\site-packages\\flask\\app.py\", line 1799, in dispatch_request\n",
      "    return self.ensure_sync(self.view_functions[rule.endpoint])(**view_args)\n",
      "           ^^^^^^^^^^^^^^^^^^^^^^^^^^^^^^^^^^^^^^^^^^^^^^^^^^^^^^^^^^^^^^^^^\n",
      "  File \"C:\\Users\\Talha Shahid\\AppData\\Local\\Temp\\ipykernel_4708\\2000969442.py\", line 118, in single_handed_curl\n",
      "    Wrong_Posture(img)\n",
      "    ^^^^^^^^^^^^^\n",
      "NameError: name 'Wrong_Posture' is not defined\n",
      "192.168.36.206 - - [06/Jul/2024 23:07:28] \"POST /single-handed-curl HTTP/1.1\" 500 -\n"
     ]
    },
    {
     "name": "stdout",
     "output_type": "stream",
     "text": [
      "Current count: 0.5\n",
      "Current direction: 1\n"
     ]
    },
    {
     "name": "stderr",
     "output_type": "stream",
     "text": [
      "[2024-07-06 23:07:30,907] ERROR in app: Exception on /single-handed-curl [POST]\n",
      "Traceback (most recent call last):\n",
      "  File \"D:\\anachonda3\\Lib\\site-packages\\flask\\app.py\", line 2529, in wsgi_app\n",
      "    response = self.full_dispatch_request()\n",
      "               ^^^^^^^^^^^^^^^^^^^^^^^^^^^^\n",
      "  File \"D:\\anachonda3\\Lib\\site-packages\\flask\\app.py\", line 1825, in full_dispatch_request\n",
      "    rv = self.handle_user_exception(e)\n",
      "         ^^^^^^^^^^^^^^^^^^^^^^^^^^^^^\n",
      "  File \"D:\\anachonda3\\Lib\\site-packages\\flask_cors\\extension.py\", line 178, in wrapped_function\n",
      "    return cors_after_request(app.make_response(f(*args, **kwargs)))\n",
      "                                                ^^^^^^^^^^^^^^^^^^\n",
      "  File \"D:\\anachonda3\\Lib\\site-packages\\flask\\app.py\", line 1823, in full_dispatch_request\n",
      "    rv = self.dispatch_request()\n",
      "         ^^^^^^^^^^^^^^^^^^^^^^^\n",
      "  File \"D:\\anachonda3\\Lib\\site-packages\\flask\\app.py\", line 1799, in dispatch_request\n",
      "    return self.ensure_sync(self.view_functions[rule.endpoint])(**view_args)\n",
      "           ^^^^^^^^^^^^^^^^^^^^^^^^^^^^^^^^^^^^^^^^^^^^^^^^^^^^^^^^^^^^^^^^^\n",
      "  File \"C:\\Users\\Talha Shahid\\AppData\\Local\\Temp\\ipykernel_4708\\2000969442.py\", line 118, in single_handed_curl\n",
      "    Wrong_Posture(img)\n",
      "    ^^^^^^^^^^^^^\n",
      "NameError: name 'Wrong_Posture' is not defined\n",
      "192.168.36.206 - - [06/Jul/2024 23:07:30] \"POST /single-handed-curl HTTP/1.1\" 500 -\n"
     ]
    },
    {
     "name": "stdout",
     "output_type": "stream",
     "text": [
      "Current count: 0.5\n",
      "Current direction: 1\n"
     ]
    },
    {
     "name": "stderr",
     "output_type": "stream",
     "text": [
      "192.168.36.206 - - [06/Jul/2024 23:07:32] \"POST /single-handed-curl HTTP/1.1\" 200 -\n"
     ]
    },
    {
     "name": "stdout",
     "output_type": "stream",
     "text": [
      "Current count: 0.5\n",
      "Current direction: 1\n"
     ]
    },
    {
     "name": "stderr",
     "output_type": "stream",
     "text": [
      "[2024-07-06 23:07:34,873] ERROR in app: Exception on /single-handed-curl [POST]\n",
      "Traceback (most recent call last):\n",
      "  File \"D:\\anachonda3\\Lib\\site-packages\\flask\\app.py\", line 2529, in wsgi_app\n",
      "    response = self.full_dispatch_request()\n",
      "               ^^^^^^^^^^^^^^^^^^^^^^^^^^^^\n",
      "  File \"D:\\anachonda3\\Lib\\site-packages\\flask\\app.py\", line 1825, in full_dispatch_request\n",
      "    rv = self.handle_user_exception(e)\n",
      "         ^^^^^^^^^^^^^^^^^^^^^^^^^^^^^\n",
      "  File \"D:\\anachonda3\\Lib\\site-packages\\flask_cors\\extension.py\", line 178, in wrapped_function\n",
      "    return cors_after_request(app.make_response(f(*args, **kwargs)))\n",
      "                                                ^^^^^^^^^^^^^^^^^^\n",
      "  File \"D:\\anachonda3\\Lib\\site-packages\\flask\\app.py\", line 1823, in full_dispatch_request\n",
      "    rv = self.dispatch_request()\n",
      "         ^^^^^^^^^^^^^^^^^^^^^^^\n",
      "  File \"D:\\anachonda3\\Lib\\site-packages\\flask\\app.py\", line 1799, in dispatch_request\n",
      "    return self.ensure_sync(self.view_functions[rule.endpoint])(**view_args)\n",
      "           ^^^^^^^^^^^^^^^^^^^^^^^^^^^^^^^^^^^^^^^^^^^^^^^^^^^^^^^^^^^^^^^^^\n",
      "  File \"C:\\Users\\Talha Shahid\\AppData\\Local\\Temp\\ipykernel_4708\\2000969442.py\", line 118, in single_handed_curl\n",
      "    Wrong_Posture(img)\n",
      "    ^^^^^^^^^^^^^\n",
      "NameError: name 'Wrong_Posture' is not defined\n",
      "192.168.36.206 - - [06/Jul/2024 23:07:34] \"POST /single-handed-curl HTTP/1.1\" 500 -\n"
     ]
    },
    {
     "name": "stdout",
     "output_type": "stream",
     "text": [
      "Current count: 1.0\n",
      "Current direction: 0\n"
     ]
    },
    {
     "name": "stderr",
     "output_type": "stream",
     "text": [
      "[2024-07-06 23:07:36,944] ERROR in app: Exception on /single-handed-curl [POST]\n",
      "Traceback (most recent call last):\n",
      "  File \"D:\\anachonda3\\Lib\\site-packages\\flask\\app.py\", line 2529, in wsgi_app\n",
      "    response = self.full_dispatch_request()\n",
      "               ^^^^^^^^^^^^^^^^^^^^^^^^^^^^\n",
      "  File \"D:\\anachonda3\\Lib\\site-packages\\flask\\app.py\", line 1825, in full_dispatch_request\n",
      "    rv = self.handle_user_exception(e)\n",
      "         ^^^^^^^^^^^^^^^^^^^^^^^^^^^^^\n",
      "  File \"D:\\anachonda3\\Lib\\site-packages\\flask_cors\\extension.py\", line 178, in wrapped_function\n",
      "    return cors_after_request(app.make_response(f(*args, **kwargs)))\n",
      "                                                ^^^^^^^^^^^^^^^^^^\n",
      "  File \"D:\\anachonda3\\Lib\\site-packages\\flask\\app.py\", line 1823, in full_dispatch_request\n",
      "    rv = self.dispatch_request()\n",
      "         ^^^^^^^^^^^^^^^^^^^^^^^\n",
      "  File \"D:\\anachonda3\\Lib\\site-packages\\flask\\app.py\", line 1799, in dispatch_request\n",
      "    return self.ensure_sync(self.view_functions[rule.endpoint])(**view_args)\n",
      "           ^^^^^^^^^^^^^^^^^^^^^^^^^^^^^^^^^^^^^^^^^^^^^^^^^^^^^^^^^^^^^^^^^\n",
      "  File \"C:\\Users\\Talha Shahid\\AppData\\Local\\Temp\\ipykernel_4708\\2000969442.py\", line 118, in single_handed_curl\n",
      "    Wrong_Posture(img)\n",
      "    ^^^^^^^^^^^^^\n",
      "NameError: name 'Wrong_Posture' is not defined\n",
      "192.168.36.206 - - [06/Jul/2024 23:07:36] \"POST /single-handed-curl HTTP/1.1\" 500 -\n"
     ]
    },
    {
     "name": "stdout",
     "output_type": "stream",
     "text": [
      "Current count: 1.5\n",
      "Current direction: 1\n"
     ]
    },
    {
     "name": "stderr",
     "output_type": "stream",
     "text": [
      "[2024-07-06 23:07:38,918] ERROR in app: Exception on /single-handed-curl [POST]\n",
      "Traceback (most recent call last):\n",
      "  File \"D:\\anachonda3\\Lib\\site-packages\\flask\\app.py\", line 2529, in wsgi_app\n",
      "    response = self.full_dispatch_request()\n",
      "               ^^^^^^^^^^^^^^^^^^^^^^^^^^^^\n",
      "  File \"D:\\anachonda3\\Lib\\site-packages\\flask\\app.py\", line 1825, in full_dispatch_request\n",
      "    rv = self.handle_user_exception(e)\n",
      "         ^^^^^^^^^^^^^^^^^^^^^^^^^^^^^\n",
      "  File \"D:\\anachonda3\\Lib\\site-packages\\flask_cors\\extension.py\", line 178, in wrapped_function\n",
      "    return cors_after_request(app.make_response(f(*args, **kwargs)))\n",
      "                                                ^^^^^^^^^^^^^^^^^^\n",
      "  File \"D:\\anachonda3\\Lib\\site-packages\\flask\\app.py\", line 1823, in full_dispatch_request\n",
      "    rv = self.dispatch_request()\n",
      "         ^^^^^^^^^^^^^^^^^^^^^^^\n",
      "  File \"D:\\anachonda3\\Lib\\site-packages\\flask\\app.py\", line 1799, in dispatch_request\n",
      "    return self.ensure_sync(self.view_functions[rule.endpoint])(**view_args)\n",
      "           ^^^^^^^^^^^^^^^^^^^^^^^^^^^^^^^^^^^^^^^^^^^^^^^^^^^^^^^^^^^^^^^^^\n",
      "  File \"C:\\Users\\Talha Shahid\\AppData\\Local\\Temp\\ipykernel_4708\\2000969442.py\", line 118, in single_handed_curl\n",
      "    Wrong_Posture(img)\n",
      "    ^^^^^^^^^^^^^\n",
      "NameError: name 'Wrong_Posture' is not defined\n",
      "192.168.36.206 - - [06/Jul/2024 23:07:38] \"POST /single-handed-curl HTTP/1.1\" 500 -\n"
     ]
    },
    {
     "name": "stdout",
     "output_type": "stream",
     "text": [
      "Current count: 1.5\n",
      "Current direction: 1\n"
     ]
    },
    {
     "name": "stderr",
     "output_type": "stream",
     "text": [
      "[2024-07-06 23:07:40,909] ERROR in app: Exception on /single-handed-curl [POST]\n",
      "Traceback (most recent call last):\n",
      "  File \"D:\\anachonda3\\Lib\\site-packages\\flask\\app.py\", line 2529, in wsgi_app\n",
      "    response = self.full_dispatch_request()\n",
      "               ^^^^^^^^^^^^^^^^^^^^^^^^^^^^\n",
      "  File \"D:\\anachonda3\\Lib\\site-packages\\flask\\app.py\", line 1825, in full_dispatch_request\n",
      "    rv = self.handle_user_exception(e)\n",
      "         ^^^^^^^^^^^^^^^^^^^^^^^^^^^^^\n",
      "  File \"D:\\anachonda3\\Lib\\site-packages\\flask_cors\\extension.py\", line 178, in wrapped_function\n",
      "    return cors_after_request(app.make_response(f(*args, **kwargs)))\n",
      "                                                ^^^^^^^^^^^^^^^^^^\n",
      "  File \"D:\\anachonda3\\Lib\\site-packages\\flask\\app.py\", line 1823, in full_dispatch_request\n",
      "    rv = self.dispatch_request()\n",
      "         ^^^^^^^^^^^^^^^^^^^^^^^\n",
      "  File \"D:\\anachonda3\\Lib\\site-packages\\flask\\app.py\", line 1799, in dispatch_request\n",
      "    return self.ensure_sync(self.view_functions[rule.endpoint])(**view_args)\n",
      "           ^^^^^^^^^^^^^^^^^^^^^^^^^^^^^^^^^^^^^^^^^^^^^^^^^^^^^^^^^^^^^^^^^\n",
      "  File \"C:\\Users\\Talha Shahid\\AppData\\Local\\Temp\\ipykernel_4708\\2000969442.py\", line 118, in single_handed_curl\n",
      "    Wrong_Posture(img)\n",
      "    ^^^^^^^^^^^^^\n",
      "NameError: name 'Wrong_Posture' is not defined\n",
      "192.168.36.206 - - [06/Jul/2024 23:07:40] \"POST /single-handed-curl HTTP/1.1\" 500 -\n"
     ]
    },
    {
     "name": "stdout",
     "output_type": "stream",
     "text": [
      "Current count: 1.5\n",
      "Current direction: 1\n"
     ]
    },
    {
     "name": "stderr",
     "output_type": "stream",
     "text": [
      "192.168.36.206 - - [06/Jul/2024 23:07:42] \"POST /single-handed-curl HTTP/1.1\" 200 -\n"
     ]
    },
    {
     "name": "stdout",
     "output_type": "stream",
     "text": [
      "Current count: 1.5\n",
      "Current direction: 1\n"
     ]
    },
    {
     "name": "stderr",
     "output_type": "stream",
     "text": [
      "[2024-07-06 23:07:44,994] ERROR in app: Exception on /single-handed-curl [POST]\n",
      "Traceback (most recent call last):\n",
      "  File \"D:\\anachonda3\\Lib\\site-packages\\flask\\app.py\", line 2529, in wsgi_app\n",
      "    response = self.full_dispatch_request()\n",
      "               ^^^^^^^^^^^^^^^^^^^^^^^^^^^^\n",
      "  File \"D:\\anachonda3\\Lib\\site-packages\\flask\\app.py\", line 1825, in full_dispatch_request\n",
      "    rv = self.handle_user_exception(e)\n",
      "         ^^^^^^^^^^^^^^^^^^^^^^^^^^^^^\n",
      "  File \"D:\\anachonda3\\Lib\\site-packages\\flask_cors\\extension.py\", line 178, in wrapped_function\n",
      "    return cors_after_request(app.make_response(f(*args, **kwargs)))\n",
      "                                                ^^^^^^^^^^^^^^^^^^\n",
      "  File \"D:\\anachonda3\\Lib\\site-packages\\flask\\app.py\", line 1823, in full_dispatch_request\n",
      "    rv = self.dispatch_request()\n",
      "         ^^^^^^^^^^^^^^^^^^^^^^^\n",
      "  File \"D:\\anachonda3\\Lib\\site-packages\\flask\\app.py\", line 1799, in dispatch_request\n",
      "    return self.ensure_sync(self.view_functions[rule.endpoint])(**view_args)\n",
      "           ^^^^^^^^^^^^^^^^^^^^^^^^^^^^^^^^^^^^^^^^^^^^^^^^^^^^^^^^^^^^^^^^^\n",
      "  File \"C:\\Users\\Talha Shahid\\AppData\\Local\\Temp\\ipykernel_4708\\2000969442.py\", line 118, in single_handed_curl\n",
      "    Wrong_Posture(img)\n",
      "    ^^^^^^^^^^^^^\n",
      "NameError: name 'Wrong_Posture' is not defined\n",
      "192.168.36.206 - - [06/Jul/2024 23:07:44] \"POST /single-handed-curl HTTP/1.1\" 500 -\n"
     ]
    },
    {
     "name": "stdout",
     "output_type": "stream",
     "text": [
      "Current count: 2.0\n",
      "Current direction: 0\n"
     ]
    },
    {
     "name": "stderr",
     "output_type": "stream",
     "text": [
      "[2024-07-06 23:07:46,954] ERROR in app: Exception on /single-handed-curl [POST]\n",
      "Traceback (most recent call last):\n",
      "  File \"D:\\anachonda3\\Lib\\site-packages\\flask\\app.py\", line 2529, in wsgi_app\n",
      "    response = self.full_dispatch_request()\n",
      "               ^^^^^^^^^^^^^^^^^^^^^^^^^^^^\n",
      "  File \"D:\\anachonda3\\Lib\\site-packages\\flask\\app.py\", line 1825, in full_dispatch_request\n",
      "    rv = self.handle_user_exception(e)\n",
      "         ^^^^^^^^^^^^^^^^^^^^^^^^^^^^^\n",
      "  File \"D:\\anachonda3\\Lib\\site-packages\\flask_cors\\extension.py\", line 178, in wrapped_function\n",
      "    return cors_after_request(app.make_response(f(*args, **kwargs)))\n",
      "                                                ^^^^^^^^^^^^^^^^^^\n",
      "  File \"D:\\anachonda3\\Lib\\site-packages\\flask\\app.py\", line 1823, in full_dispatch_request\n",
      "    rv = self.dispatch_request()\n",
      "         ^^^^^^^^^^^^^^^^^^^^^^^\n",
      "  File \"D:\\anachonda3\\Lib\\site-packages\\flask\\app.py\", line 1799, in dispatch_request\n",
      "    return self.ensure_sync(self.view_functions[rule.endpoint])(**view_args)\n",
      "           ^^^^^^^^^^^^^^^^^^^^^^^^^^^^^^^^^^^^^^^^^^^^^^^^^^^^^^^^^^^^^^^^^\n",
      "  File \"C:\\Users\\Talha Shahid\\AppData\\Local\\Temp\\ipykernel_4708\\2000969442.py\", line 118, in single_handed_curl\n",
      "    Wrong_Posture(img)\n",
      "    ^^^^^^^^^^^^^\n",
      "NameError: name 'Wrong_Posture' is not defined\n",
      "192.168.36.206 - - [06/Jul/2024 23:07:46] \"POST /single-handed-curl HTTP/1.1\" 500 -\n"
     ]
    },
    {
     "name": "stdout",
     "output_type": "stream",
     "text": [
      "Current count: 2.5\n",
      "Current direction: 1\n"
     ]
    },
    {
     "name": "stderr",
     "output_type": "stream",
     "text": [
      "192.168.36.206 - - [06/Jul/2024 23:07:48] \"POST /single-handed-curl HTTP/1.1\" 200 -\n"
     ]
    },
    {
     "name": "stdout",
     "output_type": "stream",
     "text": [
      "Current count: 2.5\n",
      "Current direction: 1\n"
     ]
    },
    {
     "name": "stderr",
     "output_type": "stream",
     "text": [
      "[2024-07-06 23:07:50,924] ERROR in app: Exception on /single-handed-curl [POST]\n",
      "Traceback (most recent call last):\n",
      "  File \"D:\\anachonda3\\Lib\\site-packages\\flask\\app.py\", line 2529, in wsgi_app\n",
      "    response = self.full_dispatch_request()\n",
      "               ^^^^^^^^^^^^^^^^^^^^^^^^^^^^\n",
      "  File \"D:\\anachonda3\\Lib\\site-packages\\flask\\app.py\", line 1825, in full_dispatch_request\n",
      "    rv = self.handle_user_exception(e)\n",
      "         ^^^^^^^^^^^^^^^^^^^^^^^^^^^^^\n",
      "  File \"D:\\anachonda3\\Lib\\site-packages\\flask_cors\\extension.py\", line 178, in wrapped_function\n",
      "    return cors_after_request(app.make_response(f(*args, **kwargs)))\n",
      "                                                ^^^^^^^^^^^^^^^^^^\n",
      "  File \"D:\\anachonda3\\Lib\\site-packages\\flask\\app.py\", line 1823, in full_dispatch_request\n",
      "    rv = self.dispatch_request()\n",
      "         ^^^^^^^^^^^^^^^^^^^^^^^\n",
      "  File \"D:\\anachonda3\\Lib\\site-packages\\flask\\app.py\", line 1799, in dispatch_request\n",
      "    return self.ensure_sync(self.view_functions[rule.endpoint])(**view_args)\n",
      "           ^^^^^^^^^^^^^^^^^^^^^^^^^^^^^^^^^^^^^^^^^^^^^^^^^^^^^^^^^^^^^^^^^\n",
      "  File \"C:\\Users\\Talha Shahid\\AppData\\Local\\Temp\\ipykernel_4708\\2000969442.py\", line 118, in single_handed_curl\n",
      "    Wrong_Posture(img)\n",
      "    ^^^^^^^^^^^^^\n",
      "NameError: name 'Wrong_Posture' is not defined\n",
      "192.168.36.206 - - [06/Jul/2024 23:07:50] \"POST /single-handed-curl HTTP/1.1\" 500 -\n"
     ]
    },
    {
     "name": "stdout",
     "output_type": "stream",
     "text": [
      "Current count: 2.5\n",
      "Current direction: 1\n"
     ]
    },
    {
     "name": "stderr",
     "output_type": "stream",
     "text": [
      "[2024-07-06 23:07:52,935] ERROR in app: Exception on /single-handed-curl [POST]\n",
      "Traceback (most recent call last):\n",
      "  File \"D:\\anachonda3\\Lib\\site-packages\\flask\\app.py\", line 2529, in wsgi_app\n",
      "    response = self.full_dispatch_request()\n",
      "               ^^^^^^^^^^^^^^^^^^^^^^^^^^^^\n",
      "  File \"D:\\anachonda3\\Lib\\site-packages\\flask\\app.py\", line 1825, in full_dispatch_request\n",
      "    rv = self.handle_user_exception(e)\n",
      "         ^^^^^^^^^^^^^^^^^^^^^^^^^^^^^\n",
      "  File \"D:\\anachonda3\\Lib\\site-packages\\flask_cors\\extension.py\", line 178, in wrapped_function\n",
      "    return cors_after_request(app.make_response(f(*args, **kwargs)))\n",
      "                                                ^^^^^^^^^^^^^^^^^^\n",
      "  File \"D:\\anachonda3\\Lib\\site-packages\\flask\\app.py\", line 1823, in full_dispatch_request\n",
      "    rv = self.dispatch_request()\n",
      "         ^^^^^^^^^^^^^^^^^^^^^^^\n",
      "  File \"D:\\anachonda3\\Lib\\site-packages\\flask\\app.py\", line 1799, in dispatch_request\n",
      "    return self.ensure_sync(self.view_functions[rule.endpoint])(**view_args)\n",
      "           ^^^^^^^^^^^^^^^^^^^^^^^^^^^^^^^^^^^^^^^^^^^^^^^^^^^^^^^^^^^^^^^^^\n",
      "  File \"C:\\Users\\Talha Shahid\\AppData\\Local\\Temp\\ipykernel_4708\\2000969442.py\", line 118, in single_handed_curl\n",
      "    Wrong_Posture(img)\n",
      "    ^^^^^^^^^^^^^\n",
      "NameError: name 'Wrong_Posture' is not defined\n",
      "192.168.36.206 - - [06/Jul/2024 23:07:52] \"POST /single-handed-curl HTTP/1.1\" 500 -\n"
     ]
    },
    {
     "name": "stdout",
     "output_type": "stream",
     "text": [
      "Current count: 2.5\n",
      "Current direction: 1\n"
     ]
    },
    {
     "name": "stderr",
     "output_type": "stream",
     "text": [
      "192.168.36.206 - - [06/Jul/2024 23:07:54] \"POST /single-handed-curl HTTP/1.1\" 200 -\n"
     ]
    },
    {
     "name": "stdout",
     "output_type": "stream",
     "text": [
      "Current count: 2.5\n",
      "Current direction: 1\n"
     ]
    },
    {
     "name": "stderr",
     "output_type": "stream",
     "text": [
      "[2024-07-06 23:07:56,892] ERROR in app: Exception on /single-handed-curl [POST]\n",
      "Traceback (most recent call last):\n",
      "  File \"D:\\anachonda3\\Lib\\site-packages\\flask\\app.py\", line 2529, in wsgi_app\n",
      "    response = self.full_dispatch_request()\n",
      "               ^^^^^^^^^^^^^^^^^^^^^^^^^^^^\n",
      "  File \"D:\\anachonda3\\Lib\\site-packages\\flask\\app.py\", line 1825, in full_dispatch_request\n",
      "    rv = self.handle_user_exception(e)\n",
      "         ^^^^^^^^^^^^^^^^^^^^^^^^^^^^^\n",
      "  File \"D:\\anachonda3\\Lib\\site-packages\\flask_cors\\extension.py\", line 178, in wrapped_function\n",
      "    return cors_after_request(app.make_response(f(*args, **kwargs)))\n",
      "                                                ^^^^^^^^^^^^^^^^^^\n",
      "  File \"D:\\anachonda3\\Lib\\site-packages\\flask\\app.py\", line 1823, in full_dispatch_request\n",
      "    rv = self.dispatch_request()\n",
      "         ^^^^^^^^^^^^^^^^^^^^^^^\n",
      "  File \"D:\\anachonda3\\Lib\\site-packages\\flask\\app.py\", line 1799, in dispatch_request\n",
      "    return self.ensure_sync(self.view_functions[rule.endpoint])(**view_args)\n",
      "           ^^^^^^^^^^^^^^^^^^^^^^^^^^^^^^^^^^^^^^^^^^^^^^^^^^^^^^^^^^^^^^^^^\n",
      "  File \"C:\\Users\\Talha Shahid\\AppData\\Local\\Temp\\ipykernel_4708\\2000969442.py\", line 118, in single_handed_curl\n",
      "    Wrong_Posture(img)\n",
      "    ^^^^^^^^^^^^^\n",
      "NameError: name 'Wrong_Posture' is not defined\n",
      "192.168.36.206 - - [06/Jul/2024 23:07:56] \"POST /single-handed-curl HTTP/1.1\" 500 -\n"
     ]
    },
    {
     "name": "stdout",
     "output_type": "stream",
     "text": [
      "Current count: 3.0\n",
      "Current direction: 0\n"
     ]
    },
    {
     "name": "stderr",
     "output_type": "stream",
     "text": [
      "192.168.36.206 - - [06/Jul/2024 23:07:58] \"POST /single-handed-curl HTTP/1.1\" 200 -\n"
     ]
    },
    {
     "name": "stdout",
     "output_type": "stream",
     "text": [
      "Current count: 3.5\n",
      "Current direction: 1\n"
     ]
    },
    {
     "name": "stderr",
     "output_type": "stream",
     "text": [
      "[2024-07-06 23:08:00,938] ERROR in app: Exception on /single-handed-curl [POST]\n",
      "Traceback (most recent call last):\n",
      "  File \"D:\\anachonda3\\Lib\\site-packages\\flask\\app.py\", line 2529, in wsgi_app\n",
      "    response = self.full_dispatch_request()\n",
      "               ^^^^^^^^^^^^^^^^^^^^^^^^^^^^\n",
      "  File \"D:\\anachonda3\\Lib\\site-packages\\flask\\app.py\", line 1825, in full_dispatch_request\n",
      "    rv = self.handle_user_exception(e)\n",
      "         ^^^^^^^^^^^^^^^^^^^^^^^^^^^^^\n",
      "  File \"D:\\anachonda3\\Lib\\site-packages\\flask_cors\\extension.py\", line 178, in wrapped_function\n",
      "    return cors_after_request(app.make_response(f(*args, **kwargs)))\n",
      "                                                ^^^^^^^^^^^^^^^^^^\n",
      "  File \"D:\\anachonda3\\Lib\\site-packages\\flask\\app.py\", line 1823, in full_dispatch_request\n",
      "    rv = self.dispatch_request()\n",
      "         ^^^^^^^^^^^^^^^^^^^^^^^\n",
      "  File \"D:\\anachonda3\\Lib\\site-packages\\flask\\app.py\", line 1799, in dispatch_request\n",
      "    return self.ensure_sync(self.view_functions[rule.endpoint])(**view_args)\n",
      "           ^^^^^^^^^^^^^^^^^^^^^^^^^^^^^^^^^^^^^^^^^^^^^^^^^^^^^^^^^^^^^^^^^\n",
      "  File \"C:\\Users\\Talha Shahid\\AppData\\Local\\Temp\\ipykernel_4708\\2000969442.py\", line 118, in single_handed_curl\n",
      "    Wrong_Posture(img)\n",
      "    ^^^^^^^^^^^^^\n",
      "NameError: name 'Wrong_Posture' is not defined\n",
      "192.168.36.206 - - [06/Jul/2024 23:08:00] \"POST /single-handed-curl HTTP/1.1\" 500 -\n"
     ]
    },
    {
     "name": "stdout",
     "output_type": "stream",
     "text": [
      "Current count: 3.5\n",
      "Current direction: 1\n"
     ]
    },
    {
     "name": "stderr",
     "output_type": "stream",
     "text": [
      "[2024-07-06 23:08:02,944] ERROR in app: Exception on /single-handed-curl [POST]\n",
      "Traceback (most recent call last):\n",
      "  File \"D:\\anachonda3\\Lib\\site-packages\\flask\\app.py\", line 2529, in wsgi_app\n",
      "    response = self.full_dispatch_request()\n",
      "               ^^^^^^^^^^^^^^^^^^^^^^^^^^^^\n",
      "  File \"D:\\anachonda3\\Lib\\site-packages\\flask\\app.py\", line 1825, in full_dispatch_request\n",
      "    rv = self.handle_user_exception(e)\n",
      "         ^^^^^^^^^^^^^^^^^^^^^^^^^^^^^\n",
      "  File \"D:\\anachonda3\\Lib\\site-packages\\flask_cors\\extension.py\", line 178, in wrapped_function\n",
      "    return cors_after_request(app.make_response(f(*args, **kwargs)))\n",
      "                                                ^^^^^^^^^^^^^^^^^^\n",
      "  File \"D:\\anachonda3\\Lib\\site-packages\\flask\\app.py\", line 1823, in full_dispatch_request\n",
      "    rv = self.dispatch_request()\n",
      "         ^^^^^^^^^^^^^^^^^^^^^^^\n",
      "  File \"D:\\anachonda3\\Lib\\site-packages\\flask\\app.py\", line 1799, in dispatch_request\n",
      "    return self.ensure_sync(self.view_functions[rule.endpoint])(**view_args)\n",
      "           ^^^^^^^^^^^^^^^^^^^^^^^^^^^^^^^^^^^^^^^^^^^^^^^^^^^^^^^^^^^^^^^^^\n",
      "  File \"C:\\Users\\Talha Shahid\\AppData\\Local\\Temp\\ipykernel_4708\\2000969442.py\", line 118, in single_handed_curl\n",
      "    Wrong_Posture(img)\n",
      "    ^^^^^^^^^^^^^\n",
      "NameError: name 'Wrong_Posture' is not defined\n",
      "192.168.36.206 - - [06/Jul/2024 23:08:02] \"POST /single-handed-curl HTTP/1.1\" 500 -\n"
     ]
    },
    {
     "name": "stdout",
     "output_type": "stream",
     "text": [
      "Current count: 3.5\n",
      "Current direction: 1\n"
     ]
    },
    {
     "name": "stderr",
     "output_type": "stream",
     "text": [
      "192.168.36.206 - - [06/Jul/2024 23:08:04] \"POST /single-handed-curl HTTP/1.1\" 200 -\n"
     ]
    },
    {
     "name": "stdout",
     "output_type": "stream",
     "text": [
      "Current count: 3.5\n",
      "Current direction: 1\n"
     ]
    },
    {
     "name": "stderr",
     "output_type": "stream",
     "text": [
      "[2024-07-06 23:08:06,893] ERROR in app: Exception on /single-handed-curl [POST]\n",
      "Traceback (most recent call last):\n",
      "  File \"D:\\anachonda3\\Lib\\site-packages\\flask\\app.py\", line 2529, in wsgi_app\n",
      "    response = self.full_dispatch_request()\n",
      "               ^^^^^^^^^^^^^^^^^^^^^^^^^^^^\n",
      "  File \"D:\\anachonda3\\Lib\\site-packages\\flask\\app.py\", line 1825, in full_dispatch_request\n",
      "    rv = self.handle_user_exception(e)\n",
      "         ^^^^^^^^^^^^^^^^^^^^^^^^^^^^^\n",
      "  File \"D:\\anachonda3\\Lib\\site-packages\\flask_cors\\extension.py\", line 178, in wrapped_function\n",
      "    return cors_after_request(app.make_response(f(*args, **kwargs)))\n",
      "                                                ^^^^^^^^^^^^^^^^^^\n",
      "  File \"D:\\anachonda3\\Lib\\site-packages\\flask\\app.py\", line 1823, in full_dispatch_request\n",
      "    rv = self.dispatch_request()\n",
      "         ^^^^^^^^^^^^^^^^^^^^^^^\n",
      "  File \"D:\\anachonda3\\Lib\\site-packages\\flask\\app.py\", line 1799, in dispatch_request\n",
      "    return self.ensure_sync(self.view_functions[rule.endpoint])(**view_args)\n",
      "           ^^^^^^^^^^^^^^^^^^^^^^^^^^^^^^^^^^^^^^^^^^^^^^^^^^^^^^^^^^^^^^^^^\n",
      "  File \"C:\\Users\\Talha Shahid\\AppData\\Local\\Temp\\ipykernel_4708\\2000969442.py\", line 118, in single_handed_curl\n",
      "    Wrong_Posture(img)\n",
      "    ^^^^^^^^^^^^^\n",
      "NameError: name 'Wrong_Posture' is not defined\n",
      "192.168.36.206 - - [06/Jul/2024 23:08:06] \"POST /single-handed-curl HTTP/1.1\" 500 -\n"
     ]
    },
    {
     "name": "stdout",
     "output_type": "stream",
     "text": [
      "Current count: 4.0\n",
      "Current direction: 0\n"
     ]
    },
    {
     "name": "stderr",
     "output_type": "stream",
     "text": [
      "192.168.36.206 - - [06/Jul/2024 23:08:08] \"POST /single-handed-curl HTTP/1.1\" 200 -\n"
     ]
    },
    {
     "name": "stdout",
     "output_type": "stream",
     "text": [
      "Current count: 4.5\n",
      "Current direction: 1\n"
     ]
    },
    {
     "name": "stderr",
     "output_type": "stream",
     "text": [
      "[2024-07-06 23:08:10,930] ERROR in app: Exception on /single-handed-curl [POST]\n",
      "Traceback (most recent call last):\n",
      "  File \"D:\\anachonda3\\Lib\\site-packages\\flask\\app.py\", line 2529, in wsgi_app\n",
      "    response = self.full_dispatch_request()\n",
      "               ^^^^^^^^^^^^^^^^^^^^^^^^^^^^\n",
      "  File \"D:\\anachonda3\\Lib\\site-packages\\flask\\app.py\", line 1825, in full_dispatch_request\n",
      "    rv = self.handle_user_exception(e)\n",
      "         ^^^^^^^^^^^^^^^^^^^^^^^^^^^^^\n",
      "  File \"D:\\anachonda3\\Lib\\site-packages\\flask_cors\\extension.py\", line 178, in wrapped_function\n",
      "    return cors_after_request(app.make_response(f(*args, **kwargs)))\n",
      "                                                ^^^^^^^^^^^^^^^^^^\n",
      "  File \"D:\\anachonda3\\Lib\\site-packages\\flask\\app.py\", line 1823, in full_dispatch_request\n",
      "    rv = self.dispatch_request()\n",
      "         ^^^^^^^^^^^^^^^^^^^^^^^\n",
      "  File \"D:\\anachonda3\\Lib\\site-packages\\flask\\app.py\", line 1799, in dispatch_request\n",
      "    return self.ensure_sync(self.view_functions[rule.endpoint])(**view_args)\n",
      "           ^^^^^^^^^^^^^^^^^^^^^^^^^^^^^^^^^^^^^^^^^^^^^^^^^^^^^^^^^^^^^^^^^\n",
      "  File \"C:\\Users\\Talha Shahid\\AppData\\Local\\Temp\\ipykernel_4708\\2000969442.py\", line 118, in single_handed_curl\n",
      "    Wrong_Posture(img)\n",
      "    ^^^^^^^^^^^^^\n",
      "NameError: name 'Wrong_Posture' is not defined\n",
      "192.168.36.206 - - [06/Jul/2024 23:08:10] \"POST /single-handed-curl HTTP/1.1\" 500 -\n"
     ]
    },
    {
     "name": "stdout",
     "output_type": "stream",
     "text": [
      "Current count: 4.5\n",
      "Current direction: 1\n"
     ]
    },
    {
     "name": "stderr",
     "output_type": "stream",
     "text": [
      "[2024-07-06 23:08:12,980] ERROR in app: Exception on /single-handed-curl [POST]\n",
      "Traceback (most recent call last):\n",
      "  File \"D:\\anachonda3\\Lib\\site-packages\\flask\\app.py\", line 2529, in wsgi_app\n",
      "    response = self.full_dispatch_request()\n",
      "               ^^^^^^^^^^^^^^^^^^^^^^^^^^^^\n",
      "  File \"D:\\anachonda3\\Lib\\site-packages\\flask\\app.py\", line 1825, in full_dispatch_request\n",
      "    rv = self.handle_user_exception(e)\n",
      "         ^^^^^^^^^^^^^^^^^^^^^^^^^^^^^\n",
      "  File \"D:\\anachonda3\\Lib\\site-packages\\flask_cors\\extension.py\", line 178, in wrapped_function\n",
      "    return cors_after_request(app.make_response(f(*args, **kwargs)))\n",
      "                                                ^^^^^^^^^^^^^^^^^^\n",
      "  File \"D:\\anachonda3\\Lib\\site-packages\\flask\\app.py\", line 1823, in full_dispatch_request\n",
      "    rv = self.dispatch_request()\n",
      "         ^^^^^^^^^^^^^^^^^^^^^^^\n",
      "  File \"D:\\anachonda3\\Lib\\site-packages\\flask\\app.py\", line 1799, in dispatch_request\n",
      "    return self.ensure_sync(self.view_functions[rule.endpoint])(**view_args)\n",
      "           ^^^^^^^^^^^^^^^^^^^^^^^^^^^^^^^^^^^^^^^^^^^^^^^^^^^^^^^^^^^^^^^^^\n",
      "  File \"C:\\Users\\Talha Shahid\\AppData\\Local\\Temp\\ipykernel_4708\\2000969442.py\", line 118, in single_handed_curl\n",
      "    Wrong_Posture(img)\n",
      "    ^^^^^^^^^^^^^\n",
      "NameError: name 'Wrong_Posture' is not defined\n",
      "192.168.36.206 - - [06/Jul/2024 23:08:12] \"POST /single-handed-curl HTTP/1.1\" 500 -\n"
     ]
    },
    {
     "name": "stdout",
     "output_type": "stream",
     "text": [
      "Current count: 4.5\n",
      "Current direction: 1\n"
     ]
    },
    {
     "name": "stderr",
     "output_type": "stream",
     "text": [
      "192.168.36.206 - - [06/Jul/2024 23:08:14] \"POST /single-handed-curl HTTP/1.1\" 200 -\n"
     ]
    },
    {
     "name": "stdout",
     "output_type": "stream",
     "text": [
      "Current count: 4.5\n",
      "Current direction: 1\n"
     ]
    },
    {
     "name": "stderr",
     "output_type": "stream",
     "text": [
      "[2024-07-06 23:08:16,932] ERROR in app: Exception on /single-handed-curl [POST]\n",
      "Traceback (most recent call last):\n",
      "  File \"D:\\anachonda3\\Lib\\site-packages\\flask\\app.py\", line 2529, in wsgi_app\n",
      "    response = self.full_dispatch_request()\n",
      "               ^^^^^^^^^^^^^^^^^^^^^^^^^^^^\n",
      "  File \"D:\\anachonda3\\Lib\\site-packages\\flask\\app.py\", line 1825, in full_dispatch_request\n",
      "    rv = self.handle_user_exception(e)\n",
      "         ^^^^^^^^^^^^^^^^^^^^^^^^^^^^^\n",
      "  File \"D:\\anachonda3\\Lib\\site-packages\\flask_cors\\extension.py\", line 178, in wrapped_function\n",
      "    return cors_after_request(app.make_response(f(*args, **kwargs)))\n",
      "                                                ^^^^^^^^^^^^^^^^^^\n",
      "  File \"D:\\anachonda3\\Lib\\site-packages\\flask\\app.py\", line 1823, in full_dispatch_request\n",
      "    rv = self.dispatch_request()\n",
      "         ^^^^^^^^^^^^^^^^^^^^^^^\n",
      "  File \"D:\\anachonda3\\Lib\\site-packages\\flask\\app.py\", line 1799, in dispatch_request\n",
      "    return self.ensure_sync(self.view_functions[rule.endpoint])(**view_args)\n",
      "           ^^^^^^^^^^^^^^^^^^^^^^^^^^^^^^^^^^^^^^^^^^^^^^^^^^^^^^^^^^^^^^^^^\n",
      "  File \"C:\\Users\\Talha Shahid\\AppData\\Local\\Temp\\ipykernel_4708\\2000969442.py\", line 118, in single_handed_curl\n",
      "    Wrong_Posture(img)\n",
      "    ^^^^^^^^^^^^^\n",
      "NameError: name 'Wrong_Posture' is not defined\n",
      "192.168.36.206 - - [06/Jul/2024 23:08:16] \"POST /single-handed-curl HTTP/1.1\" 500 -\n"
     ]
    },
    {
     "name": "stdout",
     "output_type": "stream",
     "text": [
      "Current count: 4.5\n",
      "Current direction: 1\n"
     ]
    },
    {
     "name": "stderr",
     "output_type": "stream",
     "text": [
      "[2024-07-06 23:08:18,936] ERROR in app: Exception on /single-handed-curl [POST]\n",
      "Traceback (most recent call last):\n",
      "  File \"D:\\anachonda3\\Lib\\site-packages\\flask\\app.py\", line 2529, in wsgi_app\n",
      "    response = self.full_dispatch_request()\n",
      "               ^^^^^^^^^^^^^^^^^^^^^^^^^^^^\n",
      "  File \"D:\\anachonda3\\Lib\\site-packages\\flask\\app.py\", line 1825, in full_dispatch_request\n",
      "    rv = self.handle_user_exception(e)\n",
      "         ^^^^^^^^^^^^^^^^^^^^^^^^^^^^^\n",
      "  File \"D:\\anachonda3\\Lib\\site-packages\\flask_cors\\extension.py\", line 178, in wrapped_function\n",
      "    return cors_after_request(app.make_response(f(*args, **kwargs)))\n",
      "                                                ^^^^^^^^^^^^^^^^^^\n",
      "  File \"D:\\anachonda3\\Lib\\site-packages\\flask\\app.py\", line 1823, in full_dispatch_request\n",
      "    rv = self.dispatch_request()\n",
      "         ^^^^^^^^^^^^^^^^^^^^^^^\n",
      "  File \"D:\\anachonda3\\Lib\\site-packages\\flask\\app.py\", line 1799, in dispatch_request\n",
      "    return self.ensure_sync(self.view_functions[rule.endpoint])(**view_args)\n",
      "           ^^^^^^^^^^^^^^^^^^^^^^^^^^^^^^^^^^^^^^^^^^^^^^^^^^^^^^^^^^^^^^^^^\n",
      "  File \"C:\\Users\\Talha Shahid\\AppData\\Local\\Temp\\ipykernel_4708\\2000969442.py\", line 118, in single_handed_curl\n",
      "    Wrong_Posture(img)\n",
      "    ^^^^^^^^^^^^^\n",
      "NameError: name 'Wrong_Posture' is not defined\n",
      "192.168.36.206 - - [06/Jul/2024 23:08:18] \"POST /single-handed-curl HTTP/1.1\" 500 -\n"
     ]
    },
    {
     "name": "stdout",
     "output_type": "stream",
     "text": [
      "Current count: 5.0\n",
      "Current direction: 0\n"
     ]
    },
    {
     "name": "stderr",
     "output_type": "stream",
     "text": [
      "192.168.36.206 - - [06/Jul/2024 23:08:21] \"POST /single-handed-curl HTTP/1.1\" 200 -\n"
     ]
    },
    {
     "name": "stdout",
     "output_type": "stream",
     "text": [
      "Current count: 5.5\n",
      "Current direction: 1\n"
     ]
    },
    {
     "name": "stderr",
     "output_type": "stream",
     "text": [
      "[2024-07-06 23:08:22,911] ERROR in app: Exception on /single-handed-curl [POST]\n",
      "Traceback (most recent call last):\n",
      "  File \"D:\\anachonda3\\Lib\\site-packages\\flask\\app.py\", line 2529, in wsgi_app\n",
      "    response = self.full_dispatch_request()\n",
      "               ^^^^^^^^^^^^^^^^^^^^^^^^^^^^\n",
      "  File \"D:\\anachonda3\\Lib\\site-packages\\flask\\app.py\", line 1825, in full_dispatch_request\n",
      "    rv = self.handle_user_exception(e)\n",
      "         ^^^^^^^^^^^^^^^^^^^^^^^^^^^^^\n",
      "  File \"D:\\anachonda3\\Lib\\site-packages\\flask_cors\\extension.py\", line 178, in wrapped_function\n",
      "    return cors_after_request(app.make_response(f(*args, **kwargs)))\n",
      "                                                ^^^^^^^^^^^^^^^^^^\n",
      "  File \"D:\\anachonda3\\Lib\\site-packages\\flask\\app.py\", line 1823, in full_dispatch_request\n",
      "    rv = self.dispatch_request()\n",
      "         ^^^^^^^^^^^^^^^^^^^^^^^\n",
      "  File \"D:\\anachonda3\\Lib\\site-packages\\flask\\app.py\", line 1799, in dispatch_request\n",
      "    return self.ensure_sync(self.view_functions[rule.endpoint])(**view_args)\n",
      "           ^^^^^^^^^^^^^^^^^^^^^^^^^^^^^^^^^^^^^^^^^^^^^^^^^^^^^^^^^^^^^^^^^\n",
      "  File \"C:\\Users\\Talha Shahid\\AppData\\Local\\Temp\\ipykernel_4708\\2000969442.py\", line 118, in single_handed_curl\n",
      "    Wrong_Posture(img)\n",
      "    ^^^^^^^^^^^^^\n",
      "NameError: name 'Wrong_Posture' is not defined\n",
      "192.168.36.206 - - [06/Jul/2024 23:08:22] \"POST /single-handed-curl HTTP/1.1\" 500 -\n"
     ]
    },
    {
     "name": "stdout",
     "output_type": "stream",
     "text": [
      "Current count: 5.5\n",
      "Current direction: 1\n"
     ]
    },
    {
     "name": "stderr",
     "output_type": "stream",
     "text": [
      "[2024-07-06 23:08:24,889] ERROR in app: Exception on /single-handed-curl [POST]\n",
      "Traceback (most recent call last):\n",
      "  File \"D:\\anachonda3\\Lib\\site-packages\\flask\\app.py\", line 2529, in wsgi_app\n",
      "    response = self.full_dispatch_request()\n",
      "               ^^^^^^^^^^^^^^^^^^^^^^^^^^^^\n",
      "  File \"D:\\anachonda3\\Lib\\site-packages\\flask\\app.py\", line 1825, in full_dispatch_request\n",
      "    rv = self.handle_user_exception(e)\n",
      "         ^^^^^^^^^^^^^^^^^^^^^^^^^^^^^\n",
      "  File \"D:\\anachonda3\\Lib\\site-packages\\flask_cors\\extension.py\", line 178, in wrapped_function\n",
      "    return cors_after_request(app.make_response(f(*args, **kwargs)))\n",
      "                                                ^^^^^^^^^^^^^^^^^^\n",
      "  File \"D:\\anachonda3\\Lib\\site-packages\\flask\\app.py\", line 1823, in full_dispatch_request\n",
      "    rv = self.dispatch_request()\n",
      "         ^^^^^^^^^^^^^^^^^^^^^^^\n",
      "  File \"D:\\anachonda3\\Lib\\site-packages\\flask\\app.py\", line 1799, in dispatch_request\n",
      "    return self.ensure_sync(self.view_functions[rule.endpoint])(**view_args)\n",
      "           ^^^^^^^^^^^^^^^^^^^^^^^^^^^^^^^^^^^^^^^^^^^^^^^^^^^^^^^^^^^^^^^^^\n",
      "  File \"C:\\Users\\Talha Shahid\\AppData\\Local\\Temp\\ipykernel_4708\\2000969442.py\", line 118, in single_handed_curl\n",
      "    Wrong_Posture(img)\n",
      "    ^^^^^^^^^^^^^\n",
      "NameError: name 'Wrong_Posture' is not defined\n",
      "192.168.36.206 - - [06/Jul/2024 23:08:24] \"POST /single-handed-curl HTTP/1.1\" 500 -\n"
     ]
    },
    {
     "name": "stdout",
     "output_type": "stream",
     "text": [
      "Current count: 5.5\n",
      "Current direction: 1\n"
     ]
    },
    {
     "name": "stderr",
     "output_type": "stream",
     "text": [
      "D:\\anachonda3\\Lib\\site-packages\\sklearn\\base.py:439: UserWarning: X does not have valid feature names, but LinearRegression was fitted with feature names\n",
      "  warnings.warn(\n",
      "192.168.36.206 - - [06/Jul/2024 23:08:48] \"POST /predict_calories HTTP/1.1\" 200 -\n",
      "D:\\anachonda3\\Lib\\site-packages\\sklearn\\base.py:439: UserWarning: X does not have valid feature names, but LinearRegression was fitted with feature names\n",
      "  warnings.warn(\n",
      "192.168.36.206 - - [06/Jul/2024 23:08:51] \"POST /predict_calories HTTP/1.1\" 200 -\n",
      "D:\\anachonda3\\Lib\\site-packages\\sklearn\\base.py:439: UserWarning: X does not have valid feature names, but LinearRegression was fitted with feature names\n",
      "  warnings.warn(\n",
      "192.168.36.206 - - [06/Jul/2024 23:12:43] \"POST /predict_calories HTTP/1.1\" 200 -\n",
      "D:\\anachonda3\\Lib\\site-packages\\sklearn\\base.py:439: UserWarning: X does not have valid feature names, but LinearRegression was fitted with feature names\n",
      "  warnings.warn(\n",
      "192.168.36.206 - - [06/Jul/2024 23:12:44] \"POST /predict_calories HTTP/1.1\" 200 -\n"
     ]
    }
   ],
   "source": [
    "from flask import Flask, request, jsonify\n",
    "from flask_cors import CORS\n",
    "import cv2\n",
    "import numpy as np\n",
    "import base64\n",
    "import PoseModule as pm\n",
    "import math\n",
    "import mediapipe as mp\n",
    "import pandas as pd\n",
    "from sklearn.linear_model import LinearRegression\n",
    "from sklearn.preprocessing import LabelEncoder\n",
    "\n",
    "app = Flask(__name__)\n",
    "CORS(app)\n",
    "detector = pm.poseDetector()\n",
    "dir = 0\n",
    "count = 0\n",
    "\n",
    "df = pd.read_csv('Dataset.csv')\n",
    "\n",
    "df = df.drop(['Unnamed: 0', 'BMI_tags', 'Label', 'BMR', 'activity_level'], axis='columns')\n",
    "\n",
    "X = df.drop(['calories_to_maintain_weight','BMI'], axis='columns')\n",
    "Y = df['calories_to_maintain_weight']\n",
    "\n",
    "le_gender = LabelEncoder()\n",
    "X['sex'] = le_gender.fit_transform(X['gender'])\n",
    "X = X.drop('gender', axis='columns')\n",
    "\n",
    "regression_model = LinearRegression()\n",
    "regression_model.fit(X, Y) #train\n",
    "\n",
    "@app.route('/count_pushups', methods=['POST'])\n",
    "def countPushUps():\n",
    "    global detector, dir, count\n",
    "    \n",
    "    data = request.json\n",
    "    img_str = data['img']\n",
    "    img_bytes = base64.b64decode(img_str)\n",
    "    img_np = np.frombuffer(img_bytes, dtype=np.uint8)\n",
    "    img = cv2.imdecode(img_np, cv2.IMREAD_COLOR)\n",
    "    lmList = data['lmList']\n",
    "    detector.findPose(img, draw=False)\n",
    "    lmList = detector.findPosition(img, draw=False)\n",
    "    if lmList:\n",
    "        a1 = detector.findAngle(img, 11, 13, 15)\n",
    "        a2 = detector.findAngle(img, 16, 14, 12)\n",
    "        per_val1 = int(np.interp(a1, (190, 280), (0, 100)))\n",
    "        per_val2 = int(np.interp(a2, (70, 170), (100, 0)))\n",
    "        if per_val1 == 100 and per_val2 == 100:\n",
    "            if dir == 0:\n",
    "                count += 1\n",
    "                dir = 1\n",
    "        elif per_val1 == 0 and per_val2 == 0:\n",
    "            if dir == 1:\n",
    "                dir = 0\n",
    "                print(count)\n",
    "        push_ups = count / 2  # Use math.floor to floor the count value\n",
    "        text = f'push_ups : {int(push_ups)}'  # Update the text with the floored value\n",
    "        text_color = (0, 0, 255)\n",
    "        rectangle_color = (255, 0, 0)\n",
    "        font = cv2.FONT_HERSHEY_SIMPLEX\n",
    "        font_scale = 2\n",
    "        thickness = 3\n",
    "        text_size = cv2.getTextSize(text, font, font_scale, thickness)[0]\n",
    "        text_origin = (209, 35)\n",
    "        cv2.putText(img, text, text_origin, font, font_scale, text_color, thickness)\n",
    "        (startX, startY) = text_origin\n",
    "        endX = startX + text_size[0] + 10\n",
    "        endY = startY - text_size[1] - 10\n",
    "        cv2.rectangle(img, (startX, startY), (endX, endY), rectangle_color, thickness, cv2.FILLED)\n",
    "\n",
    "    # Encode the processed image to JPEG format for sending as JSON\n",
    "    _, img_encoded = cv2.imencode('.jpg', img)\n",
    "    img_str = base64.b64encode(img_encoded).decode('utf-8')\n",
    "\n",
    "    response_data = {\n",
    "        'lmList': lmList,\n",
    "        'count': count,  # Send the floored count value\n",
    "        'img': img_str  # Sending back the processed image\n",
    "    }\n",
    "    return jsonify(response_data)\n",
    "\n",
    "@app.route('/single-handed-curl', methods=['POST'])\n",
    "def single_handed_curl():\n",
    "    global detector, dir, count\n",
    "    \n",
    "    data = request.json\n",
    "    img_str = data['img']\n",
    "    img_bytes = base64.b64decode(img_str)\n",
    "    img_np = np.frombuffer(img_bytes, dtype=np.uint8)\n",
    "    img = cv2.imdecode(img_np, cv2.IMREAD_COLOR)\n",
    "    lmList = data['lmList']\n",
    "    detector.findPose(img, draw=False)\n",
    "    lmList = detector.findPosition(img, draw=False)\n",
    "    \n",
    "    if len(lmList) != 0:\n",
    "        angle = detector.findAngle(img, 12, 14, 16)\n",
    "        per = np.interp(angle, (140, 50), (0, 100))\n",
    "        \n",
    "        # Update count based on angle and direction\n",
    "        if per == 100:\n",
    "            if dir == 0:\n",
    "                count += 0.5\n",
    "                dir = 1\n",
    "        elif per == 0:\n",
    "            if dir == 1:\n",
    "                count += 0.5\n",
    "                dir = 0\n",
    "        else:\n",
    "            print(\"Unexpected value of per:\", per)\n",
    "    \n",
    "        print(\"Current count:\", count)\n",
    "        print(\"Current direction:\", dir)\n",
    "\n",
    "        # Check for wrong posture\n",
    "        if angle < 140:\n",
    "            Wrong_Posture(img)\n",
    "\n",
    "        \n",
    "        # Add count to the image\n",
    "        cv2.putText(img, str(int(count)), (50, 100), cv2.FONT_HERSHEY_SIMPLEX, 5, (255, 0, 0), 5, cv2.LINE_AA)\n",
    "\n",
    "    return jsonify({'lmList': lmList, 'count': math.floor(count)})  # Floor the count value\n",
    "\n",
    "@app.route('/reverse-fly', methods=['POST'])\n",
    "def Reverse_Fly():\n",
    "    global detector, dir, count\n",
    "    \n",
    "    data = request.json\n",
    "    img_str = data['img']\n",
    "    img_bytes = base64.b64decode(img_str)\n",
    "    img_np = np.frombuffer(img_bytes, dtype=np.uint8)\n",
    "    img = cv2.imdecode(img_np, cv2.IMREAD_COLOR)\n",
    "    lmList = data['lmList']\n",
    "    detector.findPose(img, draw=False)\n",
    "    lmList = detector.findPosition(img, draw=False)\n",
    "    \n",
    "    if len(lmList) != 0:\n",
    "        angle = detector.findAngle(img, 11, 13, 15)\n",
    "        per = np.interp(angle, (180, 210), (0, 100))\n",
    "        angle = detector.findAngle(img, 12, 14, 16)\n",
    "        if per == 100:\n",
    "            if dir == 0:\n",
    "                count += 0.5\n",
    "                dir = 1\n",
    "        if per == 0:\n",
    "            if dir == 1:\n",
    "                count += 0.5\n",
    "                dir = 0\n",
    "\n",
    "        cv2.putText(img, str(int(count)), (50, 100), cv2.FONT_HERSHEY_SIMPLEX, 5, (255, 0, 0), 5, cv2.LINE_AA)\n",
    "    return jsonify({'lmList': lmList, 'count': math.floor(count)}) \n",
    "\n",
    "\n",
    "@app.route('/barbell-curl', methods=['POST'])\n",
    "def barbell_curl():\n",
    "    global detector, dir, count\n",
    "    \n",
    "    data = request.json\n",
    "    img_str = data['img']\n",
    "    img_bytes = base64.b64decode(img_str)\n",
    "    img_np = np.frombuffer(img_bytes, dtype=np.uint8)\n",
    "    img = cv2.imdecode(img_np, cv2.IMREAD_COLOR)\n",
    "    lmList = data['lmList']\n",
    "    detector.findPose(img, draw=False)\n",
    "    lmList = detector.findPosition(img, draw=False)\n",
    "    if len(lmList) != 0:\n",
    "        angle = detector.findAngle(img, 12, 14, 16)\n",
    "        per = np.interp(angle, (170, 50), (0, 100))\n",
    "\n",
    "        if len(lmList) > 24:\n",
    "            x, y = lmList[24][1:]\n",
    "            x = x + 200\n",
    "            FPangle = detector.findAngle(img, 12, 24, (x, y), True, True)\n",
    "            print(FPangle)\n",
    "            cv2.circle(img, (x, y), 5, (255, 0, 0), cv2.FILLED)\n",
    "\n",
    "        if per == 100:\n",
    "            if dir == 0:\n",
    "                count += 0.5\n",
    "                dir = 1\n",
    "        if per == 0:\n",
    "            if dir == 1:\n",
    "                count += 0.5\n",
    "                dir = 0\n",
    "\n",
    "        PFangle = detector.findAngle(img, 12, 24, (x, y), True, True)\n",
    "        if (PFangle < 90 or PFangle > 100):\n",
    "            Wrong_Posture(img,\"Wrong Angle\")\n",
    "\n",
    "        cv2.putText(img, str(int(count)), (50, 100), cv2.FONT_HERSHEY_SIMPLEX, 5, (255, 0, 0), 5, cv2.LINE_AA)\n",
    "    return jsonify({'lmList': lmList, 'count': math.floor(count)}) \n",
    "\n",
    "\n",
    "counter = 0 \n",
    "\n",
    "@app.route('/dead-lift', methods = ['POST'])\n",
    "\n",
    "def deadlift():\n",
    "        # Deadlift counter variables\n",
    "    global detector, dir, count\n",
    "    \n",
    "    data = request.json\n",
    "    img_str = data['img']\n",
    "    img_bytes = base64.b64decode(img_str)\n",
    "    img_np = np.frombuffer(img_bytes, dtype=np.uint8)\n",
    "    cap = cv2.imdecode(img_np, cv2.IMREAD_COLOR)\n",
    "    lmList = data['lmList']\n",
    "    detector.findPose(cap, draw=False)\n",
    "    lmList = detector.findPosition(cap, draw=False)\n",
    "    \n",
    "    count = 0\n",
    "    stage = None\n",
    "\n",
    "        # Setup mediapipe instance\n",
    "    mp_pose = mp.solutions.pose\n",
    "    mp_drawing = mp.solutions.drawing_utils\n",
    "\n",
    "        # Initialize Pose instance\n",
    "    with mp_pose.Pose(min_detection_confidence=0.5, min_tracking_confidence=0.5) as pose:\n",
    "            # Recolor image to RGB\n",
    "        image = cv2.cvtColor(cap, cv2.COLOR_BGR2RGB)\n",
    "        image.flags.writeable = False\n",
    "\n",
    "            # Make detection\n",
    "        results = pose.process(image)\n",
    "\n",
    "            # Recolor back to BGR\n",
    "        image.flags.writeable = True\n",
    "        image = cv2.cvtColor(image, cv2.COLOR_RGB2BGR)\n",
    "\n",
    "            # Extract landmarks\n",
    "        try:\n",
    "            landmarks = results.pose_landmarks.landmark\n",
    "\n",
    "            leftHand = [landmarks[mp_pose.PoseLandmark.LEFT_INDEX.value].x,\n",
    "                        landmarks[mp_pose.PoseLandmark.LEFT_PINKY.value].y]\n",
    "            rightHand = [landmarks[mp_pose.PoseLandmark.RIGHT_INDEX.value].x,\n",
    "                        landmarks[mp_pose.PoseLandmark.RIGHT_PINKY.value].y]\n",
    "            print(\"Happening\")\n",
    "\n",
    "                # Adjust these coordinates according to your setup\n",
    "            if (checkHandInBox(leftHand[0] * 640, leftHand[1] * 480, 590, 20, 670, 80) or checkHandInBox(\n",
    "                    rightHand[0] * 640, rightHand[1] * 480, 600, 0, 680, 60)):\n",
    "                print(\"Wrong View\")\n",
    "\n",
    "                return\n",
    "\n",
    "            left_hand = landmarks[mp_pose.PoseLandmark.LEFT_INDEX.value]\n",
    "            right_hand = landmarks[mp_pose.PoseLandmark.RIGHT_INDEX.value]\n",
    "            left_knee = landmarks[mp_pose.PoseLandmark.LEFT_KNEE.value]\n",
    "            right_knee = landmarks[mp_pose.PoseLandmark.RIGHT_KNEE.value]\n",
    "\n",
    "\n",
    "            if checkDeadlift(left_hand, right_hand, left_knee, right_knee,False):\n",
    "\n",
    "                if(stage == \"down\" and checkDeadlift(left_hand, right_hand, left_knee, right_knee, True)):\n",
    "\n",
    "                    stage = \"up\"\n",
    "                    count =count+1\n",
    "                    mytext = str(count)\n",
    "                    language = 'en'\n",
    "                    myobj = gTTS(text=mytext, lang=language, slow=True)\n",
    "                    print(\"should play\")\n",
    "                    myobj.save(\"welcome\" + str(count) + \".mp3\")\n",
    "                    playsound(\"welcome\" + str(count) + \".mp3\")\n",
    "                    print(count)\n",
    "        except:\n",
    "            pass\n",
    "\n",
    "            # Setup status box\n",
    "        cv2.rectangle(image, (0, 0), (240, 73), (245, 117, 16), -1)\n",
    "\n",
    "            # Rep data\n",
    "        print(\"I am here\")\n",
    "        cv2.putText(image, 'REPS', (15, 12),\n",
    "                    cv2.FONT_HERSHEY_SIMPLEX, 0.5, (0, 0, 0), 1, cv2.LINE_AA)\n",
    "        cv2.putText(image, str(count),\n",
    "                    (10, 60),\n",
    "                    cv2.FONT_HERSHEY_SIMPLEX, 2, (255, 255, 255), 2, cv2.LINE_AA)\n",
    "\n",
    "            # Stage data\n",
    "        cv2.putText(image, 'STAGE', (85, 12),\n",
    "                    cv2.FONT_HERSHEY_SIMPLEX, 0.5, (0, 0, 0), 1, cv2.LINE_AA)\n",
    "        cv2.putText(image, stage,\n",
    "                    (80, 60),\n",
    "                    cv2.FONT_HERSHEY_SIMPLEX, 2, (255, 255, 255), 2, cv2.LINE_AA)\n",
    "\n",
    "            # Render detections\n",
    "        mp_drawing.draw_landmarks(image, results.pose_landmarks, mp_pose.POSE_CONNECTIONS,\n",
    "                                    mp_drawing.DrawingSpec(color=(245, 117, 66), thickness=2, circle_radius=2),\n",
    "                                    mp_drawing.DrawingSpec(color=(245, 66, 230), thickness=2, circle_radius=2)\n",
    "                                    )\n",
    "    return jsonify({'lmList': lmList, 'count': math.floor(count)}) \n",
    "\n",
    "def checkDeadlift(a, b, c, d, checkUp):\n",
    "    if c.visibility > 0.5 and d.visibility > 0.5:\n",
    "        print(\"Visible\")\n",
    "        print(checkUp)\n",
    "        if checkUp:\n",
    "            print(\"Distance\",math.sqrt(math.pow(a.y-c.y,2) + math.pow(b.y-d.y,2)))\n",
    "            if math.sqrt(math.pow(a.y-c.y,2) + math.pow(b.y-d.y,2))<0.009:\n",
    "                return True\n",
    "            else:\n",
    "                return False\n",
    "        else:\n",
    "            if (a.y+0.11) < (c.y) and (b.y+0.11) < (d.y):\n",
    "                stage=\"down\"\n",
    "                return True\n",
    "            else:\n",
    "                return False\n",
    "    else:\n",
    "        print(\"Not Visible\")\n",
    "        return False\n",
    "\n",
    "def checkHandInBox(x, y, x1, y1, x2, y2):\n",
    "    if x1 < x < x2 and y1 < y < y2:\n",
    "        return True\n",
    "    else:\n",
    "        return False\n",
    "@app.route('/predict_calories', methods=['POST'])\n",
    "def predict_calories():\n",
    "    data = request.json\n",
    "    \n",
    "    # Extract input features from the request\n",
    "    age = data['age']\n",
    "    height = data['height']\n",
    "    weight = data['weight']\n",
    "    sex = data['sex']  # Assuming 'sex' is encoded as 0 for Female and 1 for Male\n",
    "    \n",
    "    # Encode sex using the same LabelEncoder used during training\n",
    "    sex_encoded = le_gender.transform([sex])[0]\n",
    "    \n",
    "    # Make prediction using the trained Linear Regression model\n",
    "    prediction = regression_model.predict([[age, height, weight, sex_encoded]])\n",
    "    \n",
    "    # Return the prediction\n",
    "    return jsonify({'predicted_calories': prediction[0]})\n",
    "\n",
    "@app.route('/', methods = ['GET'])\n",
    "def avtivee():\n",
    "    return 'Server is activated'\n",
    "\n",
    "if __name__ == '__main__':\n",
    "    app.run(host = '192.168.36.234', port='3355')\n"
   ]
  },
  {
   "cell_type": "code",
   "execution_count": 5,
   "id": "a80a6934-5314-4ecc-97a8-e0d501c7748d",
   "metadata": {},
   "outputs": [
    {
     "data": {
      "text/html": [
       "<div>\n",
       "<style scoped>\n",
       "    .dataframe tbody tr th:only-of-type {\n",
       "        vertical-align: middle;\n",
       "    }\n",
       "\n",
       "    .dataframe tbody tr th {\n",
       "        vertical-align: top;\n",
       "    }\n",
       "\n",
       "    .dataframe thead th {\n",
       "        text-align: right;\n",
       "    }\n",
       "</style>\n",
       "<table border=\"1\" class=\"dataframe\">\n",
       "  <thead>\n",
       "    <tr style=\"text-align: right;\">\n",
       "      <th></th>\n",
       "      <th>age</th>\n",
       "      <th>weight(kg)</th>\n",
       "      <th>height(m)</th>\n",
       "      <th>gender</th>\n",
       "      <th>BMI</th>\n",
       "      <th>calories_to_maintain_weight</th>\n",
       "    </tr>\n",
       "  </thead>\n",
       "  <tbody>\n",
       "    <tr>\n",
       "      <th>0</th>\n",
       "      <td>2</td>\n",
       "      <td>16.097862</td>\n",
       "      <td>0.932025</td>\n",
       "      <td>F</td>\n",
       "      <td>18.531612</td>\n",
       "      <td>1150.3008</td>\n",
       "    </tr>\n",
       "    <tr>\n",
       "      <th>1</th>\n",
       "      <td>4</td>\n",
       "      <td>14.619374</td>\n",
       "      <td>0.916687</td>\n",
       "      <td>F</td>\n",
       "      <td>17.397496</td>\n",
       "      <td>1585.0511</td>\n",
       "    </tr>\n",
       "    <tr>\n",
       "      <th>2</th>\n",
       "      <td>4</td>\n",
       "      <td>17.899918</td>\n",
       "      <td>0.997288</td>\n",
       "      <td>F</td>\n",
       "      <td>17.997414</td>\n",
       "      <td>1857.3982</td>\n",
       "    </tr>\n",
       "    <tr>\n",
       "      <th>3</th>\n",
       "      <td>3</td>\n",
       "      <td>13.532880</td>\n",
       "      <td>1.022786</td>\n",
       "      <td>F</td>\n",
       "      <td>12.936609</td>\n",
       "      <td>1794.9091</td>\n",
       "    </tr>\n",
       "    <tr>\n",
       "      <th>4</th>\n",
       "      <td>4</td>\n",
       "      <td>17.039484</td>\n",
       "      <td>1.053977</td>\n",
       "      <td>M</td>\n",
       "      <td>15.338909</td>\n",
       "      <td>1518.5351</td>\n",
       "    </tr>\n",
       "  </tbody>\n",
       "</table>\n",
       "</div>"
      ],
      "text/plain": [
       "   age  weight(kg)  height(m) gender        BMI  calories_to_maintain_weight\n",
       "0    2   16.097862   0.932025      F  18.531612                    1150.3008\n",
       "1    4   14.619374   0.916687      F  17.397496                    1585.0511\n",
       "2    4   17.899918   0.997288      F  17.997414                    1857.3982\n",
       "3    3   13.532880   1.022786      F  12.936609                    1794.9091\n",
       "4    4   17.039484   1.053977      M  15.338909                    1518.5351"
      ]
     },
     "execution_count": 5,
     "metadata": {},
     "output_type": "execute_result"
    }
   ],
   "source": [
    "df.head()"
   ]
  },
  {
   "cell_type": "code",
   "execution_count": null,
   "id": "3a8582d5-d052-446a-a735-06578aa7e210",
   "metadata": {},
   "outputs": [],
   "source": []
  }
 ],
 "metadata": {
  "kernelspec": {
   "display_name": "Python 3 (ipykernel)",
   "language": "python",
   "name": "python3"
  },
  "language_info": {
   "codemirror_mode": {
    "name": "ipython",
    "version": 3
   },
   "file_extension": ".py",
   "mimetype": "text/x-python",
   "name": "python",
   "nbconvert_exporter": "python",
   "pygments_lexer": "ipython3",
   "version": "3.11.7"
  }
 },
 "nbformat": 4,
 "nbformat_minor": 5
}
