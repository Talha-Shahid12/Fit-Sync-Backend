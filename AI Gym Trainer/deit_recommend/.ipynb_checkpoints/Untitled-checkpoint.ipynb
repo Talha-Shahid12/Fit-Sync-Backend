{
 "cells": [
  {
   "cell_type": "code",
   "execution_count": 54,
   "id": "54020e19-5c9f-48ee-860e-da91cef4e29b",
   "metadata": {},
   "outputs": [],
   "source": []
  },
  {
   "cell_type": "code",
   "execution_count": 75,
   "id": "0bab279a-53ca-47a6-aeaf-06ca5a15be2b",
   "metadata": {},
   "outputs": [
    {
     "name": "stderr",
     "output_type": "stream",
     "text": [
      "D:\\anachonda3\\Lib\\site-packages\\sklearn\\base.py:439: UserWarning: X does not have valid feature names, but LinearRegression was fitted with feature names\n",
      "  warnings.warn(\n"
     ]
    },
    {
     "data": {
      "text/plain": [
       "array([1439.14768179])"
      ]
     },
     "execution_count": 75,
     "metadata": {},
     "output_type": "execute_result"
    }
   ],
   "source": [
    "import pandas as pd\n",
    "from sklearn.model_selection import train_test_split\n",
    "from sklearn.linear_model import LinearRegression\n",
    "from sklearn.metrics import mean_squared_error\n",
    "from sklearn.preprocessing import LabelEncoder\n",
    "\n",
    "df = pd.read_csv('Dataset.csv')\n",
    "\n",
    "df = df.drop(['Unnamed: 0', 'BMI_tags', 'Label', 'BMR', 'activity_level'], axis='columns')\n",
    "\n",
    "X = df.drop('calories_to_maintain_weight', axis='columns')\n",
    "Y = df['calories_to_maintain_weight']\n",
    "\n",
    "le_gender = LabelEncoder()\n",
    "X['sex'] = le_gender.fit_transform(X['gender'])\n",
    "X = X.drop('gender', axis='columns')\n",
    "\n",
    "X_train, X_test, Y_train, Y_test = train_test_split(X, Y, test_size=0.2, random_state=42)\n",
    "\n",
    "regression_model = LinearRegression()\n",
    "\n",
    "regression_model.fit(X_train, Y_train)\n",
    "\n",
    "regression_model.predict([[4,14.619374,0.916687,17.397496,0]])\n",
    "\n",
    "#mse = mean_squared_error(Y_test, Y_pred)\n",
    "#print(\"Mean Squared Error:\", mse)\n"
   ]
  },
  {
   "cell_type": "code",
   "execution_count": 73,
   "id": "d8a80e66-d136-496e-b2a3-e5a83113965f",
   "metadata": {},
   "outputs": [
    {
     "data": {
      "text/plain": [
       "(       age  weight(kg)  height(m)        BMI  sex\n",
       " 0        2   16.097862   0.932025  18.531612    0\n",
       " 1        4   14.619374   0.916687  17.397496    0\n",
       " 2        4   17.899918   0.997288  17.997414    0\n",
       " 3        3   13.532880   1.022786  12.936609    0\n",
       " 4        4   17.039484   1.053977  15.338909    1\n",
       " ...    ...         ...        ...        ...  ...\n",
       " 10721   72   95.444236   1.631113  35.874169    0\n",
       " 10722   85   97.976899   1.631409  36.812724    0\n",
       " 10723   50   97.761259   1.631864  36.711217    0\n",
       " 10724   57   96.829324   1.631290  36.386871    0\n",
       " 10725   63   97.615186   1.633168  36.597850    1\n",
       " \n",
       " [10726 rows x 5 columns],\n",
       " 0        1150.3008\n",
       " 1        1585.0511\n",
       " 2        1857.3982\n",
       " 3        1794.9091\n",
       " 4        1518.5351\n",
       "            ...    \n",
       " 10721    1963.2002\n",
       " 10722    2504.8106\n",
       " 10723    2781.0725\n",
       " 10724    2072.1753\n",
       " 10725    2149.8144\n",
       " Name: calories_to_maintain_weight, Length: 10726, dtype: float64)"
      ]
     },
     "execution_count": 73,
     "metadata": {},
     "output_type": "execute_result"
    }
   ],
   "source": [
    "X,Y "
   ]
  },
  {
   "cell_type": "code",
   "execution_count": 57,
   "id": "239150c0-4f69-486b-9053-37ab9b93b28e",
   "metadata": {},
   "outputs": [],
   "source": []
  },
  {
   "cell_type": "code",
   "execution_count": 58,
   "id": "12847627-65b9-40f1-a55e-ead660822ef3",
   "metadata": {},
   "outputs": [],
   "source": []
  },
  {
   "cell_type": "code",
   "execution_count": 59,
   "id": "703ea6f5-330b-4f54-b007-33afd1e022a7",
   "metadata": {},
   "outputs": [],
   "source": []
  },
  {
   "cell_type": "code",
   "execution_count": 60,
   "id": "ef5e1ddb-efcc-4005-9adc-513618e046e0",
   "metadata": {},
   "outputs": [],
   "source": []
  },
  {
   "cell_type": "code",
   "execution_count": 61,
   "id": "c543ed7f-5274-4975-a9e8-73cc9213bcf5",
   "metadata": {},
   "outputs": [],
   "source": []
  },
  {
   "cell_type": "code",
   "execution_count": 62,
   "id": "e181222c-46bb-463c-9d76-f1079f3f32e1",
   "metadata": {},
   "outputs": [],
   "source": []
  },
  {
   "cell_type": "code",
   "execution_count": 66,
   "id": "3f442153-d3f2-42b0-a153-1e269426749c",
   "metadata": {},
   "outputs": [
    {
     "ename": "ValueError",
     "evalue": "Unknown label type: 'continuous'",
     "output_type": "error",
     "traceback": [
      "\u001b[1;31m---------------------------------------------------------------------------\u001b[0m",
      "\u001b[1;31mValueError\u001b[0m                                Traceback (most recent call last)",
      "Cell \u001b[1;32mIn[66], line 1\u001b[0m\n\u001b[1;32m----> 1\u001b[0m model\u001b[38;5;241m.\u001b[39mfit(X,Y)\n\u001b[0;32m      2\u001b[0m Y\n",
      "File \u001b[1;32mD:\\anachonda3\\Lib\\site-packages\\sklearn\\neighbors\\_classification.py:215\u001b[0m, in \u001b[0;36mKNeighborsClassifier.fit\u001b[1;34m(self, X, y)\u001b[0m\n\u001b[0;32m    196\u001b[0m \u001b[38;5;250m\u001b[39m\u001b[38;5;124;03m\"\"\"Fit the k-nearest neighbors classifier from the training dataset.\u001b[39;00m\n\u001b[0;32m    197\u001b[0m \n\u001b[0;32m    198\u001b[0m \u001b[38;5;124;03mParameters\u001b[39;00m\n\u001b[1;32m   (...)\u001b[0m\n\u001b[0;32m    211\u001b[0m \u001b[38;5;124;03m    The fitted k-nearest neighbors classifier.\u001b[39;00m\n\u001b[0;32m    212\u001b[0m \u001b[38;5;124;03m\"\"\"\u001b[39;00m\n\u001b[0;32m    213\u001b[0m \u001b[38;5;28mself\u001b[39m\u001b[38;5;241m.\u001b[39m_validate_params()\n\u001b[1;32m--> 215\u001b[0m \u001b[38;5;28;01mreturn\u001b[39;00m \u001b[38;5;28mself\u001b[39m\u001b[38;5;241m.\u001b[39m_fit(X, y)\n",
      "File \u001b[1;32mD:\\anachonda3\\Lib\\site-packages\\sklearn\\neighbors\\_base.py:476\u001b[0m, in \u001b[0;36mNeighborsBase._fit\u001b[1;34m(self, X, y)\u001b[0m\n\u001b[0;32m    473\u001b[0m \u001b[38;5;28;01melse\u001b[39;00m:\n\u001b[0;32m    474\u001b[0m     \u001b[38;5;28mself\u001b[39m\u001b[38;5;241m.\u001b[39moutputs_2d_ \u001b[38;5;241m=\u001b[39m \u001b[38;5;28;01mTrue\u001b[39;00m\n\u001b[1;32m--> 476\u001b[0m check_classification_targets(y)\n\u001b[0;32m    477\u001b[0m \u001b[38;5;28mself\u001b[39m\u001b[38;5;241m.\u001b[39mclasses_ \u001b[38;5;241m=\u001b[39m []\n\u001b[0;32m    478\u001b[0m \u001b[38;5;28mself\u001b[39m\u001b[38;5;241m.\u001b[39m_y \u001b[38;5;241m=\u001b[39m np\u001b[38;5;241m.\u001b[39mempty(y\u001b[38;5;241m.\u001b[39mshape, dtype\u001b[38;5;241m=\u001b[39m\u001b[38;5;28mint\u001b[39m)\n",
      "File \u001b[1;32mD:\\anachonda3\\Lib\\site-packages\\sklearn\\utils\\multiclass.py:218\u001b[0m, in \u001b[0;36mcheck_classification_targets\u001b[1;34m(y)\u001b[0m\n\u001b[0;32m    210\u001b[0m y_type \u001b[38;5;241m=\u001b[39m type_of_target(y, input_name\u001b[38;5;241m=\u001b[39m\u001b[38;5;124m\"\u001b[39m\u001b[38;5;124my\u001b[39m\u001b[38;5;124m\"\u001b[39m)\n\u001b[0;32m    211\u001b[0m \u001b[38;5;28;01mif\u001b[39;00m y_type \u001b[38;5;129;01mnot\u001b[39;00m \u001b[38;5;129;01min\u001b[39;00m [\n\u001b[0;32m    212\u001b[0m     \u001b[38;5;124m\"\u001b[39m\u001b[38;5;124mbinary\u001b[39m\u001b[38;5;124m\"\u001b[39m,\n\u001b[0;32m    213\u001b[0m     \u001b[38;5;124m\"\u001b[39m\u001b[38;5;124mmulticlass\u001b[39m\u001b[38;5;124m\"\u001b[39m,\n\u001b[1;32m   (...)\u001b[0m\n\u001b[0;32m    216\u001b[0m     \u001b[38;5;124m\"\u001b[39m\u001b[38;5;124mmultilabel-sequences\u001b[39m\u001b[38;5;124m\"\u001b[39m,\n\u001b[0;32m    217\u001b[0m ]:\n\u001b[1;32m--> 218\u001b[0m     \u001b[38;5;28;01mraise\u001b[39;00m \u001b[38;5;167;01mValueError\u001b[39;00m(\u001b[38;5;124m\"\u001b[39m\u001b[38;5;124mUnknown label type: \u001b[39m\u001b[38;5;132;01m%r\u001b[39;00m\u001b[38;5;124m\"\u001b[39m \u001b[38;5;241m%\u001b[39m y_type)\n",
      "\u001b[1;31mValueError\u001b[0m: Unknown label type: 'continuous'"
     ]
    }
   ],
   "source": []
  },
  {
   "cell_type": "code",
   "execution_count": 67,
   "id": "0e56be2f-cfb9-4913-97b0-14d3e8919aeb",
   "metadata": {},
   "outputs": [
    {
     "data": {
      "text/plain": [
       "0        1150.3008\n",
       "1        1585.0511\n",
       "2        1857.3982\n",
       "3        1794.9091\n",
       "4        1518.5351\n",
       "           ...    \n",
       "10721    1963.2002\n",
       "10722    2504.8106\n",
       "10723    2781.0725\n",
       "10724    2072.1753\n",
       "10725    2149.8144\n",
       "Name: calories_to_maintain_weight, Length: 10726, dtype: float64"
      ]
     },
     "execution_count": 67,
     "metadata": {},
     "output_type": "execute_result"
    }
   ],
   "source": [
    "Y"
   ]
  },
  {
   "cell_type": "code",
   "execution_count": null,
   "id": "6319155b-b454-4fcf-af1c-c5bb1acd2b8e",
   "metadata": {},
   "outputs": [],
   "source": []
  }
 ],
 "metadata": {
  "kernelspec": {
   "display_name": "Python 3 (ipykernel)",
   "language": "python",
   "name": "python3"
  },
  "language_info": {
   "codemirror_mode": {
    "name": "ipython",
    "version": 3
   },
   "file_extension": ".py",
   "mimetype": "text/x-python",
   "name": "python",
   "nbconvert_exporter": "python",
   "pygments_lexer": "ipython3",
   "version": "3.11.7"
  }
 },
 "nbformat": 4,
 "nbformat_minor": 5
}
